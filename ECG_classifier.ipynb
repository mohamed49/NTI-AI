{
  "nbformat": 4,
  "nbformat_minor": 0,
  "metadata": {
    "colab": {
      "provenance": [],
      "collapsed_sections": [
        "BH9mNw97E0XZ",
        "Y-brKw1ZJZ0x"
      ],
      "authorship_tag": "ABX9TyP5BbTZM/s/oX5ECZXnXlgz",
      "include_colab_link": true
    },
    "kernelspec": {
      "name": "python3",
      "display_name": "Python 3"
    },
    "language_info": {
      "name": "python"
    }
  },
  "cells": [
    {
      "cell_type": "markdown",
      "metadata": {
        "id": "view-in-github",
        "colab_type": "text"
      },
      "source": [
        "<a href=\"https://colab.research.google.com/github/mohamed49/NTI-AI/blob/main/ECG_classifier.ipynb\" target=\"_parent\"><img src=\"https://colab.research.google.com/assets/colab-badge.svg\" alt=\"Open In Colab\"/></a>"
      ]
    },
    {
      "cell_type": "markdown",
      "source": [
        "#Linking Dataset from Kaggle"
      ],
      "metadata": {
        "id": "BH9mNw97E0XZ"
      }
    },
    {
      "cell_type": "code",
      "execution_count": 2,
      "metadata": {
        "id": "uB2c-7OdC5VF"
      },
      "outputs": [],
      "source": [
        "from google.colab import userdata\n",
        "import os\n",
        "\n",
        "os.environ[\"KAGGLE_KEY\"] = userdata.get('KAGGLE_KEY')\n",
        "os.environ[\"KAGGLE_USERNAME\"] = userdata.get('KAGGLE_USERNAME')"
      ]
    },
    {
      "cell_type": "code",
      "source": [
        "!kaggle datasets download -d shayanfazeli/heartbeat"
      ],
      "metadata": {
        "colab": {
          "base_uri": "https://localhost:8080/"
        },
        "id": "cueO8_2ZDldn",
        "outputId": "8f0b8625-59f3-4aa6-a057-2b7c4800126d"
      },
      "execution_count": 4,
      "outputs": [
        {
          "output_type": "stream",
          "name": "stdout",
          "text": [
            "Dataset URL: https://www.kaggle.com/datasets/shayanfazeli/heartbeat\n",
            "License(s): unknown\n",
            "unzip:  cannot find or open africa-cup-of-nations-squads-list.zip, africa-cup-of-nations-squads-list.zip.zip or africa-cup-of-nations-squads-list.zip.ZIP.\n"
          ]
        }
      ]
    },
    {
      "cell_type": "code",
      "source": [
        "! mkdir datasets\n",
        "! unzip \"heartbeat.zip\" -d datasets"
      ],
      "metadata": {
        "colab": {
          "base_uri": "https://localhost:8080/"
        },
        "id": "57g1Vx_AD12V",
        "outputId": "29eae72b-ce0b-4b9e-ae31-b8176d6b5cb8"
      },
      "execution_count": 5,
      "outputs": [
        {
          "output_type": "stream",
          "name": "stdout",
          "text": [
            "mkdir: cannot create directory ‘datasets’: File exists\n",
            "Archive:  heartbeat.zip\n",
            "  inflating: datasets/mitbih_test.csv  \n",
            "  inflating: datasets/mitbih_train.csv  \n",
            "  inflating: datasets/ptbdb_abnormal.csv  \n",
            "  inflating: datasets/ptbdb_normal.csv  \n"
          ]
        }
      ]
    },
    {
      "cell_type": "markdown",
      "source": [
        "#Load Dependencies"
      ],
      "metadata": {
        "id": "2P_rLoUYE9Sj"
      }
    },
    {
      "cell_type": "code",
      "source": [
        "import numpy as np\n",
        "import pandas as pd\n",
        "import matplotlib.pyplot as plt\n",
        "import seaborn as sns\n",
        "from sklearn.preprocessing import LabelEncoder, StandardScaler\n",
        "from sklearn.model_selection import train_test_split\n",
        "from sklearn import linear_model\n",
        "from sklearn import metrics\n",
        "from sklearn.metrics import accuracy_score, confusion_matrix, ConfusionMatrixDisplay, classification_report"
      ],
      "metadata": {
        "id": "VX0bDRbiE__o"
      },
      "execution_count": 6,
      "outputs": []
    },
    {
      "cell_type": "markdown",
      "source": [
        "#Data Preprocessing"
      ],
      "metadata": {
        "id": "_sCgFvM7FILv"
      }
    },
    {
      "cell_type": "code",
      "source": [
        "train_data = pd.read_csv('datasets/mitbih_train.csv', header=None)\n",
        "test_data = pd.read_csv('datasets/mitbih_test.csv', header=None)"
      ],
      "metadata": {
        "id": "Dko9YLMdFCet"
      },
      "execution_count": 13,
      "outputs": []
    },
    {
      "cell_type": "code",
      "source": [
        "plt.figure(figsize=(10, 5))\n",
        "train_class_counts = train_data[187].value_counts()\n",
        "train_class_counts.sort_index(inplace=True)\n",
        "train_class_counts.plot(kind='bar', color='#66CDAA', edgecolor='black')\n",
        "plt.title('Train Data')\n",
        "plt.xlabel('Labels')\n",
        "plt.ylabel('Count')\n",
        "for idx, count in enumerate(train_class_counts):\n",
        "    plt.text(idx, count + 500, str(count), ha='center', va='bottom', fontsize=10)\n",
        "plt.show()"
      ],
      "metadata": {
        "colab": {
          "base_uri": "https://localhost:8080/",
          "height": 495
        },
        "id": "XDvD5naRGDEx",
        "outputId": "e472f99b-7b15-4c30-d3c4-5619b3e476c3"
      },
      "execution_count": 17,
      "outputs": [
        {
          "output_type": "display_data",
          "data": {
            "text/plain": [
              "<Figure size 1000x500 with 1 Axes>"
            ],
            "image/png": "[encoded data removed]"
          },
          "metadata": {}
        }
      ]
    },
    {
      "cell_type": "code",
      "source": [],
      "metadata": {
        "id": "rqTpvsfqGE1Y"
      },
      "execution_count": null,
      "outputs": []
    },
    {
      "cell_type": "markdown",
      "source": [
        "#Initialize Models"
      ],
      "metadata": {
        "id": "Y-brKw1ZJZ0x"
      }
    },
    {
      "cell_type": "code",
      "source": [
        "models = {\n",
        "    \"Logistic Regression\": RandomForestClassifier(random_state=42),\n",
        "    \"SVM\": LinearSVC(random_state=42, max_iter=10000),\n",
        "    \"KNN\": SVC(random_state=42),\n",
        "    \"Decision Tree\": XGBClassifier(random_state=42, eval_metric='mlogloss')\n",
        "}"
      ],
      "metadata": {
        "id": "9W-hmLl3Jdu6"
      },
      "execution_count": null,
      "outputs": []
    },
    {
      "cell_type": "code",
      "source": [
        "results = []\n",
        "\n",
        "for model_name, model in models.items():\n",
        "    print(f\"Training {model_name}...\")\n",
        "    model.fit(train_data_features, train_data_labels)  # Train the model\n",
        "\n",
        "    y_pred = model.predict(test_data_features)  # Predict on test data\n",
        "\n",
        "    # Evaluate model performance\n",
        "    acc = accuracy_score(test_data_labels, y_pred)\n",
        "    f1 = f1_score(test_data_labels, y_pred, average='weighted')\n",
        "    precision = precision_score(test_data_labels, y_pred, average='weighted')\n",
        "    recall = recall_score(test_data_labels, y_pred, average='weighted')\n",
        "\n",
        "    results.append({\n",
        "        \"Model\": model_name,\n",
        "        \"Accuracy\": acc,\n",
        "        \"F1 Score\": f1,\n",
        "        \"Precision\": precision,\n",
        "        \"Recall\": recall\n",
        "    })\n",
        "\n",
        "# Display the results\n",
        "results_df = pd.DataFrame(results)\n",
        "print(results_df)"
      ],
      "metadata": {
        "id": "AFCU9whQJzcO"
      },
      "execution_count": null,
      "outputs": []
    }
  ]
}